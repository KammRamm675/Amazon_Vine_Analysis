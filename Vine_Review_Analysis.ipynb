{
  "nbformat": 4,
  "nbformat_minor": 0,
  "metadata": {
    "colab": {
      "name": "Vine_Review_Analysis.ipynb",
      "provenance": [],
      "authorship_tag": "ABX9TyMoS8wg7mlR81hXRocyfOJL",
      "include_colab_link": true
    },
    "kernelspec": {
      "name": "python3",
      "display_name": "Python 3"
    },
    "language_info": {
      "name": "python"
    }
  },
  "cells": [
    {
      "cell_type": "markdown",
      "metadata": {
        "id": "view-in-github",
        "colab_type": "text"
      },
      "source": [
        "<a href=\"https://colab.research.google.com/github/KammRamm675/Amazon_Vine_Analysis/blob/main/Vine_Review_Analysis.ipynb\" target=\"_parent\"><img src=\"https://colab.research.google.com/assets/colab-badge.svg\" alt=\"Open In Colab\"/></a>"
      ]
    },
    {
      "cell_type": "code",
      "execution_count": 2,
      "metadata": {
        "colab": {
          "base_uri": "https://localhost:8080/"
        },
        "id": "b-zizp6LyvbT",
        "outputId": "b0bcf27f-0100-4edc-fd5d-ed44ac604868"
      },
      "outputs": [
        {
          "output_type": "stream",
          "name": "stdout",
          "text": [
            "\r0% [Working]\r            \rHit:1 http://archive.ubuntu.com/ubuntu bionic InRelease\n",
            "\r0% [Waiting for headers] [Connecting to security.ubuntu.com (91.189.91.38)] [Co\r                                                                               \rGet:2 http://archive.ubuntu.com/ubuntu bionic-updates InRelease [88.7 kB]\n",
            "\r                                                                               \rGet:3 http://security.ubuntu.com/ubuntu bionic-security InRelease [88.7 kB]\n",
            "\r                                                                               \rGet:4 https://cloud.r-project.org/bin/linux/ubuntu bionic-cran40/ InRelease [3,626 B]\n",
            "Get:5 http://archive.ubuntu.com/ubuntu bionic-backports InRelease [74.6 kB]\n",
            "Get:6 http://ppa.launchpad.net/c2d4u.team/c2d4u4.0+/ubuntu bionic InRelease [15.9 kB]\n",
            "Hit:7 http://ppa.launchpad.net/cran/libgit2/ubuntu bionic InRelease\n",
            "Ign:8 https://developer.download.nvidia.com/compute/cuda/repos/ubuntu1804/x86_64  InRelease\n",
            "Get:9 http://ppa.launchpad.net/deadsnakes/ppa/ubuntu bionic InRelease [15.9 kB]\n",
            "Ign:10 https://developer.download.nvidia.com/compute/machine-learning/repos/ubuntu1804/x86_64  InRelease\n",
            "Hit:11 http://ppa.launchpad.net/graphics-drivers/ppa/ubuntu bionic InRelease\n",
            "Hit:12 https://developer.download.nvidia.com/compute/cuda/repos/ubuntu1804/x86_64  Release\n",
            "Get:13 http://security.ubuntu.com/ubuntu bionic-security/universe amd64 Packages [1,496 kB]\n",
            "Hit:14 https://developer.download.nvidia.com/compute/machine-learning/repos/ubuntu1804/x86_64  Release\n",
            "Get:15 http://security.ubuntu.com/ubuntu bionic-security/restricted amd64 Packages [907 kB]\n",
            "Get:16 http://security.ubuntu.com/ubuntu bionic-security/main amd64 Packages [2,728 kB]\n",
            "Get:17 http://archive.ubuntu.com/ubuntu bionic-updates/main amd64 Packages [3,165 kB]\n",
            "Get:18 http://archive.ubuntu.com/ubuntu bionic-updates/restricted amd64 Packages [941 kB]\n",
            "Get:19 http://archive.ubuntu.com/ubuntu bionic-updates/universe amd64 Packages [2,272 kB]\n",
            "Get:20 http://ppa.launchpad.net/c2d4u.team/c2d4u4.0+/ubuntu bionic/main Sources [1,949 kB]\n",
            "Get:21 http://ppa.launchpad.net/c2d4u.team/c2d4u4.0+/ubuntu bionic/main amd64 Packages [999 kB]\n",
            "Get:24 http://ppa.launchpad.net/deadsnakes/ppa/ubuntu bionic/main amd64 Packages [45.3 kB]\n",
            "Fetched 14.8 MB in 4s (4,222 kB/s)\n",
            "Reading package lists... Done\n"
          ]
        }
      ],
      "source": [
        "import os\n",
        "# Find the latest version of spark 3.0 from http://www.apache.org/dist/spark/ and enter as the spark version\n",
        "# For example:\n",
        "# spark_version = 'spark-3.0.3'\n",
        "spark_version = 'spark-3.2.1'\n",
        "os.environ['spark-3.2.1']=spark_version\n",
        "\n",
        "# Install Spark and Java\n",
        "!apt-get update\n",
        "!apt-get install openjdk-11-jdk-headless -qq > /dev/null\n",
        "!wget -q http://www.apache.org/dist/spark/spark-3.2.1/spark-3.2.1-bin-hadoop2.7.tgz\n",
        "!tar xf spark-3.2.1-bin-hadoop2.7.tgz\n",
        "!pip install -q findspark\n",
        "\n",
        "# Set Environment Variables\n",
        "import os\n",
        "os.environ[\"JAVA_HOME\"] = \"/usr/lib/jvm/java-11-openjdk-amd64\"\n",
        "os.environ[\"SPARK_HOME\"] = f\"/content/spark-3.2.1-bin-hadoop2.7\"\n",
        "\n",
        "# Start a SparkSession\n",
        "import findspark\n",
        "findspark.init()"
      ]
    },
    {
      "cell_type": "code",
      "source": [
        "# Download the Postgres driver that will allow Spark to interact with Postgres.\n",
        "!wget https://jdbc.postgresql.org/download/postgresql-42.2.16.jar"
      ],
      "metadata": {
        "colab": {
          "base_uri": "https://localhost:8080/"
        },
        "id": "iLu6_Oa-zCyA",
        "outputId": "29b8b3e6-bd3a-4d65-9879-679cfb7f9172"
      },
      "execution_count": 3,
      "outputs": [
        {
          "output_type": "stream",
          "name": "stdout",
          "text": [
            "--2022-04-25 04:42:08--  https://jdbc.postgresql.org/download/postgresql-42.2.16.jar\n",
            "Resolving jdbc.postgresql.org (jdbc.postgresql.org)... 72.32.157.228, 2001:4800:3e1:1::228\n",
            "Connecting to jdbc.postgresql.org (jdbc.postgresql.org)|72.32.157.228|:443... connected.\n",
            "HTTP request sent, awaiting response... 200 OK\n",
            "Length: 1002883 (979K) [application/java-archive]\n",
            "Saving to: ‘postgresql-42.2.16.jar’\n",
            "\n",
            "postgresql-42.2.16. 100%[===================>] 979.38K  5.62MB/s    in 0.2s    \n",
            "\n",
            "2022-04-25 04:42:08 (5.62 MB/s) - ‘postgresql-42.2.16.jar’ saved [1002883/1002883]\n",
            "\n"
          ]
        }
      ]
    },
    {
      "cell_type": "code",
      "source": [
        "from pyspark.sql import SparkSession\n",
        "spark = SparkSession.builder.appName(\"M16-Amazon-Challenge\").config(\"spark.driver.extraClassPath\",\"/content/postgresql-42.2.16.jar\").getOrCreate()"
      ],
      "metadata": {
        "id": "6unsW1ANzKoX"
      },
      "execution_count": 4,
      "outputs": []
    },
    {
      "cell_type": "code",
      "source": [
        "from pyspark import SparkFiles\n",
        "url = \"https://s3.amazonaws.com/amazon-reviews-pds/tsv/amazon_reviews_us_Home_Entertainment_v1_00.tsv.gz\"\n",
        "spark.sparkContext.addFile(url)\n",
        "df = spark.read.option(\"encoding\", \"UTF-8\").csv(SparkFiles.get(\"\"), sep=\"\\t\", header=True, inferSchema=True)\n",
        "df.show(10)"
      ],
      "metadata": {
        "colab": {
          "base_uri": "https://localhost:8080/"
        },
        "id": "letiEsNjzVjM",
        "outputId": "9815437a-ba6a-4997-bf91-05b4cfd19ea1"
      },
      "execution_count": 5,
      "outputs": [
        {
          "output_type": "stream",
          "name": "stdout",
          "text": [
            "+-----------+-----------+--------------+----------+--------------+--------------------+------------------+-----------+-------------+-----------+----+-----------------+--------------------+--------------------+-----------+\n",
            "|marketplace|customer_id|     review_id|product_id|product_parent|       product_title|  product_category|star_rating|helpful_votes|total_votes|vine|verified_purchase|     review_headline|         review_body|review_date|\n",
            "+-----------+-----------+--------------+----------+--------------+--------------------+------------------+-----------+-------------+-----------+----+-----------------+--------------------+--------------------+-----------+\n",
            "|         US|     179886| RY01SAV7HZ8QO|B00NTI0CQ2|     667358431|Aketek 1080P LED ...|Home Entertainment|          4|            0|          0|   N|                Y|good enough for m...|not the best pict...| 2015-08-31|\n",
            "|         US|   37293769|R1XX8SDGJ4MZ4L|B00BUCLVZU|     621695622|TiVo Mini with IR...|Home Entertainment|          5|            0|          0|   N|                N|Tell the Cable Co...|Not only do my Ti...| 2015-08-31|\n",
            "|         US|    8332121|R149Q3B5L33NN5|B00RBX9D5W|     143071132|Apple TV MD199LL/...|Home Entertainment|          5|            0|          0|   N|                Y|    Works perfectly!|Works perfectly! ...| 2015-08-31|\n",
            "|         US|   47054962|R2ZVD69Z6KPJ4O|B00UJ3IULO|     567816707|New Roku 3 6.5 Fo...|Home Entertainment|          1|            0|          2|   N|                Y|It doesn't work. ...|It doesn't work. ...| 2015-08-31|\n",
            "|         US|   23413911|R1DIKG2G33ZLNP|B0037UCTXG|     909557698|Generic DVI-I Dua...|Home Entertainment|          4|            0|          0|   N|                Y|         As pictured|I received the it...| 2015-08-31|\n",
            "|         US|    4417771|R3L6FGKAW0EYFI|B004N866SU|     414565179|Samsung 3D LED HD...|Home Entertainment|          1|            1|          1|   N|                N|Only lasts 3-4 ye...|I bought this TV ...| 2015-08-31|\n",
            "|         US|   47900707| RAO0QZH5VC6VI|B00JE6AOJS|     798450889|Jiake Wireless Bl...|Home Entertainment|          1|            0|          0|   N|                Y|            One Star|    Waste of $$$$$$$| 2015-08-31|\n",
            "|         US|   34112894|R25IK0UAHWNB22|B00COL0B7A|     777554234|3pcs/lot 3in1 3ft...|Home Entertainment|          3|            0|          0|   N|                Y|         Three Stars|Nice but all thre...| 2015-08-31|\n",
            "|         US|   20691979|R2A9IHKZMTMAL1|B00QHLSKOE|     885228855|Matricom G-Box Q²...|Home Entertainment|          5|            1|          2|   N|                Y|Yes...exactly wha...|Oh, yeah...doesn'...| 2015-08-31|\n",
            "|         US|   25983343| R5XVKTHL6SITI|B00UNL2MUW|     164482798|VIZIO S2920W-C0B ...|Home Entertainment|          5|            0|          0|   N|                Y|Fantastic sound. ...|Fantastic sound. ...| 2015-08-31|\n",
            "+-----------+-----------+--------------+----------+--------------+--------------------+------------------+-----------+-------------+-----------+----+-----------------+--------------------+--------------------+-----------+\n",
            "only showing top 10 rows\n",
            "\n"
          ]
        }
      ]
    },
    {
      "cell_type": "code",
      "source": [
        "from pyspark.sql.functions import to_date"
      ],
      "metadata": {
        "id": "dXyIpBUTzqmS"
      },
      "execution_count": 6,
      "outputs": []
    },
    {
      "cell_type": "code",
      "source": [
        "# Create the vine_table. DataFrame\n",
        "vine_df = df.select([\"review_id\", \"star_rating\", \"helpful_votes\", \"total_votes\", \"vine\", \"verified_purchase\"])\n",
        "vine_df.show(10)"
      ],
      "metadata": {
        "colab": {
          "base_uri": "https://localhost:8080/"
        },
        "id": "Da4EwBUCBmF7",
        "outputId": "2e930219-e761-4224-9754-0f4ce7ddc5fd"
      },
      "execution_count": 7,
      "outputs": [
        {
          "output_type": "stream",
          "name": "stdout",
          "text": [
            "+--------------+-----------+-------------+-----------+----+-----------------+\n",
            "|     review_id|star_rating|helpful_votes|total_votes|vine|verified_purchase|\n",
            "+--------------+-----------+-------------+-----------+----+-----------------+\n",
            "| RY01SAV7HZ8QO|          4|            0|          0|   N|                Y|\n",
            "|R1XX8SDGJ4MZ4L|          5|            0|          0|   N|                N|\n",
            "|R149Q3B5L33NN5|          5|            0|          0|   N|                Y|\n",
            "|R2ZVD69Z6KPJ4O|          1|            0|          2|   N|                Y|\n",
            "|R1DIKG2G33ZLNP|          4|            0|          0|   N|                Y|\n",
            "|R3L6FGKAW0EYFI|          1|            1|          1|   N|                N|\n",
            "| RAO0QZH5VC6VI|          1|            0|          0|   N|                Y|\n",
            "|R25IK0UAHWNB22|          3|            0|          0|   N|                Y|\n",
            "|R2A9IHKZMTMAL1|          5|            1|          2|   N|                Y|\n",
            "| R5XVKTHL6SITI|          5|            0|          0|   N|                Y|\n",
            "+--------------+-----------+-------------+-----------+----+-----------------+\n",
            "only showing top 10 rows\n",
            "\n"
          ]
        }
      ]
    },
    {
      "cell_type": "code",
      "source": [
        "helpful_votes_df = vine_df.filter(\"total_votes>=20\")\n",
        "helpful_votes_df.show(10)"
      ],
      "metadata": {
        "colab": {
          "base_uri": "https://localhost:8080/"
        },
        "id": "2wmejO-kB63Q",
        "outputId": "6dbfec55-c821-4fc5-da43-aee14aea47b9"
      },
      "execution_count": 9,
      "outputs": [
        {
          "output_type": "stream",
          "name": "stdout",
          "text": [
            "+--------------+-----------+-------------+-----------+----+-----------------+\n",
            "|     review_id|star_rating|helpful_votes|total_votes|vine|verified_purchase|\n",
            "+--------------+-----------+-------------+-----------+----+-----------------+\n",
            "|R1VCSDR38XTALJ|          1|           33|         40|   N|                N|\n",
            "|R1KMC6B2JRCZ3D|          3|           42|         47|   N|                N|\n",
            "|R1LV778IDGRJQ6|          1|            4|         23|   N|                Y|\n",
            "| RBZE8H6SHVYWW|          3|           77|        110|   N|                N|\n",
            "|R2LBEAGVJA7HK1|          3|            5|         48|   N|                N|\n",
            "|R3UN4H3BW9YTQA|          5|          358|        388|   N|                Y|\n",
            "| R2YKRQ8R3B2Q3|          5|           30|         35|   N|                N|\n",
            "|R1K00VBT0SMD4Z|          1|           50|         60|   N|                Y|\n",
            "|R3QLX5NODD1OJ4|          1|            9|         25|   N|                Y|\n",
            "|R2SOOHE0XUQON1|          1|            2|         24|   N|                N|\n",
            "+--------------+-----------+-------------+-----------+----+-----------------+\n",
            "only showing top 10 rows\n",
            "\n"
          ]
        }
      ]
    },
    {
      "cell_type": "code",
      "source": [
        "# Filter and create new df (WHERE CAST(helpful_votes AS FLOAT)/CAST(total_votes AS FLOAT) >=0.5)\n",
        "helpful_reviews_df = helpful_votes_df.filter((helpful_votes_df.helpful_votes/helpful_votes_df.total_votes) >= 0.5)\n",
        "helpful_reviews_df.show(10)"
      ],
      "metadata": {
        "colab": {
          "base_uri": "https://localhost:8080/"
        },
        "id": "v5LmL9rGCAdm",
        "outputId": "dbb8d0e0-1067-40c7-f969-1d6a7724ce58"
      },
      "execution_count": 10,
      "outputs": [
        {
          "output_type": "stream",
          "name": "stdout",
          "text": [
            "+--------------+-----------+-------------+-----------+----+-----------------+\n",
            "|     review_id|star_rating|helpful_votes|total_votes|vine|verified_purchase|\n",
            "+--------------+-----------+-------------+-----------+----+-----------------+\n",
            "|R1VCSDR38XTALJ|          1|           33|         40|   N|                N|\n",
            "|R1KMC6B2JRCZ3D|          3|           42|         47|   N|                N|\n",
            "| RBZE8H6SHVYWW|          3|           77|        110|   N|                N|\n",
            "|R3UN4H3BW9YTQA|          5|          358|        388|   N|                Y|\n",
            "| R2YKRQ8R3B2Q3|          5|           30|         35|   N|                N|\n",
            "|R1K00VBT0SMD4Z|          1|           50|         60|   N|                Y|\n",
            "|R2I9AO0VEBYJES|          4|           47|         57|   N|                Y|\n",
            "|R3Q7YJX1I5PDMU|          3|           22|         22|   N|                Y|\n",
            "| RJQQO26UPW1PI|          5|           76|         96|   N|                Y|\n",
            "|R2QJI05ZY7DNSR|          4|           59|         73|   N|                N|\n",
            "+--------------+-----------+-------------+-----------+----+-----------------+\n",
            "only showing top 10 rows\n",
            "\n"
          ]
        }
      ]
    },
    {
      "cell_type": "code",
      "source": [
        "# Filter adnd create me df (vine == 'Y')\n",
        "paid_reviews_df = helpful_reviews_df.filter(\"vine == 'Y'\")\n",
        "paid_reviews_df.show(10)"
      ],
      "metadata": {
        "colab": {
          "base_uri": "https://localhost:8080/"
        },
        "id": "OWDGF8RMCZcV",
        "outputId": "6c601e77-ed25-4af4-dcab-8a675662cac3"
      },
      "execution_count": 11,
      "outputs": [
        {
          "output_type": "stream",
          "name": "stdout",
          "text": [
            "+--------------+-----------+-------------+-----------+----+-----------------+\n",
            "|     review_id|star_rating|helpful_votes|total_votes|vine|verified_purchase|\n",
            "+--------------+-----------+-------------+-----------+----+-----------------+\n",
            "|R3LLICBKRHLRJC|          4|           17|         22|   Y|                N|\n",
            "| RUD135S06DEVE|          5|           41|         51|   Y|                N|\n",
            "|R2WG8UL4SGDPDH|          4|           23|         25|   Y|                N|\n",
            "|R158AOKOA28WS2|          4|           18|         28|   Y|                N|\n",
            "| RGWV3QLJQXU9X|          5|          332|        380|   Y|                N|\n",
            "| RD0E1RZSSYGGN|          5|          261|        292|   Y|                N|\n",
            "|R3LGCTQH5ZMGO0|          5|           61|         68|   Y|                N|\n",
            "|R2H24YTRLARCZJ|          4|          277|        297|   Y|                N|\n",
            "| RYYTC9JTG7WPW|          5|          107|        134|   Y|                N|\n",
            "| RTB8H4YQYTLY3|          4|           58|         62|   Y|                N|\n",
            "+--------------+-----------+-------------+-----------+----+-----------------+\n",
            "only showing top 10 rows\n",
            "\n"
          ]
        }
      ]
    },
    {
      "cell_type": "code",
      "source": [
        "helpful_reviews_df.count()"
      ],
      "metadata": {
        "colab": {
          "base_uri": "https://localhost:8080/"
        },
        "id": "wbO6hMMGCdfh",
        "outputId": "3216d252-e7a5-42fc-a02b-f7211e0aa414"
      },
      "execution_count": 12,
      "outputs": [
        {
          "output_type": "execute_result",
          "data": {
            "text/plain": [
              "24301"
            ]
          },
          "metadata": {},
          "execution_count": 12
        }
      ]
    },
    {
      "cell_type": "code",
      "source": [
        "paid_reviews_count = paid_reviews_df.count()\n",
        "paid_reviews_count"
      ],
      "metadata": {
        "colab": {
          "base_uri": "https://localhost:8080/"
        },
        "id": "u12D29LXDEuz",
        "outputId": "00896513-5bc4-4317-e908-9d5f46ccf1b5"
      },
      "execution_count": 13,
      "outputs": [
        {
          "output_type": "execute_result",
          "data": {
            "text/plain": [
              "261"
            ]
          },
          "metadata": {},
          "execution_count": 13
        }
      ]
    },
    {
      "cell_type": "code",
      "source": [
        "unpaid_reviews_df = helpful_reviews_df.filter(\"vine == 'N'\")\n",
        "unpaid_reviews_df.show(10)"
      ],
      "metadata": {
        "colab": {
          "base_uri": "https://localhost:8080/"
        },
        "id": "au4sjhRODGi5",
        "outputId": "d124d525-d401-4cf7-8d83-01aba1b74669"
      },
      "execution_count": 14,
      "outputs": [
        {
          "output_type": "stream",
          "name": "stdout",
          "text": [
            "+--------------+-----------+-------------+-----------+----+-----------------+\n",
            "|     review_id|star_rating|helpful_votes|total_votes|vine|verified_purchase|\n",
            "+--------------+-----------+-------------+-----------+----+-----------------+\n",
            "|R1VCSDR38XTALJ|          1|           33|         40|   N|                N|\n",
            "|R1KMC6B2JRCZ3D|          3|           42|         47|   N|                N|\n",
            "| RBZE8H6SHVYWW|          3|           77|        110|   N|                N|\n",
            "|R3UN4H3BW9YTQA|          5|          358|        388|   N|                Y|\n",
            "| R2YKRQ8R3B2Q3|          5|           30|         35|   N|                N|\n",
            "|R1K00VBT0SMD4Z|          1|           50|         60|   N|                Y|\n",
            "|R2I9AO0VEBYJES|          4|           47|         57|   N|                Y|\n",
            "|R3Q7YJX1I5PDMU|          3|           22|         22|   N|                Y|\n",
            "| RJQQO26UPW1PI|          5|           76|         96|   N|                Y|\n",
            "|R2QJI05ZY7DNSR|          4|           59|         73|   N|                N|\n",
            "+--------------+-----------+-------------+-----------+----+-----------------+\n",
            "only showing top 10 rows\n",
            "\n"
          ]
        }
      ]
    },
    {
      "cell_type": "code",
      "source": [
        "unpaid_reviews_count = unpaid_reviews_df.count()\n",
        "unpaid_reviews_count"
      ],
      "metadata": {
        "colab": {
          "base_uri": "https://localhost:8080/"
        },
        "id": "fUljp0JvDNqJ",
        "outputId": "6b20a3b1-8f52-4675-e8e4-72ae685d4f48"
      },
      "execution_count": 15,
      "outputs": [
        {
          "output_type": "execute_result",
          "data": {
            "text/plain": [
              "24040"
            ]
          },
          "metadata": {},
          "execution_count": 15
        }
      ]
    },
    {
      "cell_type": "code",
      "source": [
        "paid_five_star_reviews = paid_reviews_df.filter(paid_reviews_df.star_rating==5).count()\n",
        "paid_five_star_reviews"
      ],
      "metadata": {
        "colab": {
          "base_uri": "https://localhost:8080/"
        },
        "id": "X8WCwjdWDPgx",
        "outputId": "51d957b3-72ef-48a7-8790-f925ae58184a"
      },
      "execution_count": 16,
      "outputs": [
        {
          "output_type": "execute_result",
          "data": {
            "text/plain": [
              "106"
            ]
          },
          "metadata": {},
          "execution_count": 16
        }
      ]
    },
    {
      "cell_type": "code",
      "source": [
        "unpaid_five_star_reviews = unpaid_reviews_df.filter(unpaid_reviews_df.star_rating==5).count()\n",
        "unpaid_five_star_reviews"
      ],
      "metadata": {
        "colab": {
          "base_uri": "https://localhost:8080/"
        },
        "id": "L1VwlDzCDQxB",
        "outputId": "af06c3c9-38af-471e-a930-04cdd2e86706"
      },
      "execution_count": 17,
      "outputs": [
        {
          "output_type": "execute_result",
          "data": {
            "text/plain": [
              "10899"
            ]
          },
          "metadata": {},
          "execution_count": 17
        }
      ]
    },
    {
      "cell_type": "code",
      "source": [
        "paid_five_star_percentage = (paid_five_star_reviews/paid_reviews_count) * 100\n",
        "paid_five_star_percentage"
      ],
      "metadata": {
        "colab": {
          "base_uri": "https://localhost:8080/"
        },
        "id": "GBTMlBwVDSsy",
        "outputId": "d970bae1-2c2d-4f46-8f15-4dfd581b9ec3"
      },
      "execution_count": 18,
      "outputs": [
        {
          "output_type": "execute_result",
          "data": {
            "text/plain": [
              "40.61302681992337"
            ]
          },
          "metadata": {},
          "execution_count": 18
        }
      ]
    },
    {
      "cell_type": "code",
      "source": [
        "unpaid_five_star_percentage = (unpaid_five_star_reviews/unpaid_reviews_count) * 100\n",
        "unpaid_five_star_percentage"
      ],
      "metadata": {
        "colab": {
          "base_uri": "https://localhost:8080/"
        },
        "id": "DArRGU4vDUnD",
        "outputId": "81d6df5f-5b68-4c06-e0d7-65a8ab0961ba"
      },
      "execution_count": 19,
      "outputs": [
        {
          "output_type": "execute_result",
          "data": {
            "text/plain": [
              "45.3369384359401"
            ]
          },
          "metadata": {},
          "execution_count": 19
        }
      ]
    },
    {
      "cell_type": "code",
      "source": [
        ""
      ],
      "metadata": {
        "id": "ffxIwuxGDWOQ"
      },
      "execution_count": null,
      "outputs": []
    }
  ]
}